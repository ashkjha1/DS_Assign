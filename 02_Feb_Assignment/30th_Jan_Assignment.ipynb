{
 "cells": [
  {
   "cell_type": "markdown",
   "id": "89af8902-58aa-4559-99e7-fdb20e992947",
   "metadata": {},
   "source": [
    "### Write a Program to accept the percentage from the user and display the grade accordingly"
   ]
  },
  {
   "cell_type": "code",
   "execution_count": 1,
   "id": "d187598a-b37a-4a22-946e-c1edaf23f565",
   "metadata": {},
   "outputs": [
    {
     "name": "stdin",
     "output_type": "stream",
     "text": [
      "Enter the Marks:  60\n"
     ]
    },
    {
     "name": "stdout",
     "output_type": "stream",
     "text": [
      "Your grade is: C\n"
     ]
    }
   ],
   "source": [
    "marks = int(input('Enter the Marks: '))\n",
    "if marks > 90:\n",
    "    print('Your grade is: A')\n",
    "elif marks > 80 and marks <=90:\n",
    "    print('Your grade is: B')\n",
    "elif marks >= 60 and marks <=80:\n",
    "    print('Your grade is: C')\n",
    "elif marks < 60:\n",
    "    print('Your grade is: D')"
   ]
  },
  {
   "cell_type": "markdown",
   "id": "c3d1f5eb-13a8-4b25-9d07-754e48828aba",
   "metadata": {},
   "source": [
    "### Write a program to accept the cost price of a bike and display the road tax to be paid according to the criteria"
   ]
  },
  {
   "cell_type": "code",
   "execution_count": 13,
   "id": "3ea8e687-60b7-4d84-8409-fa60019720bd",
   "metadata": {},
   "outputs": [
    {
     "name": "stdin",
     "output_type": "stream",
     "text": [
      "Enter the cost price of the bike:  25000\n"
     ]
    },
    {
     "name": "stdout",
     "output_type": "stream",
     "text": [
      "Total amount to be paid after tax for your bike will be Rs.26250.0\n"
     ]
    }
   ],
   "source": [
    "bike_cost = int(input('Enter the cost price of the bike: '))\n",
    "if bike_cost > 100000:\n",
    "    print('Total amount to be paid after tax for your bike will be Rs.{}'.format(bike_cost+(bike_cost*.15)))\n",
    "elif bike_cost > 50000 and bike_cost <= 100000:\n",
    "    print('Total amount to be paid after tax for your bike will be Rs.{}'.format(bike_cost+(bike_cost*.10)))\n",
    "elif bike_cost <= 50000:\n",
    "    print('Total amount to be paid after tax for your bike will be Rs.{}'.format(bike_cost+(bike_cost*.05)))"
   ]
  },
  {
   "cell_type": "markdown",
   "id": "88555e48-4561-41ba-a0e7-fe6d49f2a90b",
   "metadata": {},
   "source": [
    "## Accept any city from the user and display monuments of that city"
   ]
  },
  {
   "cell_type": "code",
   "execution_count": 8,
   "id": "af372bf8-42e0-44b1-92b7-82622f9da4d0",
   "metadata": {},
   "outputs": [
    {
     "name": "stdin",
     "output_type": "stream",
     "text": [
      "Enter the city name:  AgRa\n"
     ]
    },
    {
     "name": "stdout",
     "output_type": "stream",
     "text": [
      "The Monument in Agra is Taj Mahal\n"
     ]
    }
   ],
   "source": [
    "city = input('Enter the city name: ').lower()\n",
    "if city == 'delhi':\n",
    "    print('The Monument in Delhi is Red Fort')\n",
    "elif city == 'agra':\n",
    "    print('The Monument in Agra is Taj Mahal')\n",
    "elif city == 'jaipur':\n",
    "    print('The Monument in Jaipur is Jal Mahal')\n",
    "else:\n",
    "    print('Entered city is incorrect, please enter the correct city name')"
   ]
  },
  {
   "cell_type": "markdown",
   "id": "9ae9e510-11f4-4328-8bcd-0da63c7124de",
   "metadata": {},
   "source": [
    "## Check how many times a given number can be divided by 3 before it is less than or equal to 10"
   ]
  },
  {
   "cell_type": "code",
   "execution_count": 22,
   "id": "d487aabf-e7d5-44c3-8d7f-f8f1b7fd4ac1",
   "metadata": {},
   "outputs": [
    {
     "name": "stdin",
     "output_type": "stream",
     "text": [
      "Enter the desired number:  269\n"
     ]
    },
    {
     "name": "stdout",
     "output_type": "stream",
     "text": [
      "Total times it took to divide the 269 to 3 before it became equals to or less than 10 are/is: 3\n"
     ]
    }
   ],
   "source": [
    "count = 0\n",
    "og_num = number = int(input('Enter the desired number: '))\n",
    "while number > 10:\n",
    "    number = number / 3\n",
    "    count += 1\n",
    "print('Total times it took to divide the {} to 3 before it became equals to or less than 10 are/is: {}'.format(og_num, count))"
   ]
  },
  {
   "cell_type": "markdown",
   "id": "19a697ca-e8f9-4cc2-9250-15f5f4596ab5",
   "metadata": {},
   "source": [
    "## Why and When to use while loop in python give a detailed description with example\n"
   ]
  },
  {
   "cell_type": "markdown",
   "id": "9d4e922f-1246-4968-ab23-f9c3bc5086eb",
   "metadata": {},
   "source": [
    "While loop is a looping comparison function which can be used to perform repetitve task until the given condition is true.\n",
    "While loop is often useful when we don't know the exact number of iteration that it will take to give the output.\n",
    "\n",
    "example: In the below code a number will be divided by 3 until it becomes equals to or less than 10. Here as we don't know number before hand we are using \"While number > 10\" that means that while loop will continue its execution until number is greater than 10 and as soon as number becomes less than or equals to 10 it will come out of the loop and print the result as needed.\n",
    "\n",
    "\n",
    "count = 0\n",
    "\n",
    "og_num = number = int(input('Enter the desired number: '))\n",
    "\n",
    "while number > 10:\n",
    "\n",
    "    number = number / 3\n",
    "    \n",
    "    count += 1\n",
    "    \n",
    "print('Total times it took to divide the {} to 3 before it became equals to or less than 10 are/is: {}'.format(og_num, count))"
   ]
  },
  {
   "cell_type": "markdown",
   "id": "09ce020a-c5ce-402d-a28d-d114f70d5d0e",
   "metadata": {},
   "source": [
    "## Use nested while loop to print 3 different patterns.\n"
   ]
  },
  {
   "cell_type": "markdown",
   "id": "6ecb6240-6601-4a18-b327-74f1ee51a0c2",
   "metadata": {},
   "source": [
    "First Pattern"
   ]
  },
  {
   "cell_type": "code",
   "execution_count": 46,
   "id": "bd4f23ad-e785-410e-9a8a-a1c8acfd323a",
   "metadata": {},
   "outputs": [
    {
     "name": "stdin",
     "output_type": "stream",
     "text": [
      "Enter the number of rows:  5\n"
     ]
    },
    {
     "name": "stdout",
     "output_type": "stream",
     "text": [
      " * \n",
      " *  * \n",
      " *  *  * \n",
      " *  *  *  * \n",
      " *  *  *  *  * \n"
     ]
    }
   ],
   "source": [
    "n = int(input('Enter the number of rows: '))\n",
    "pattern_count = 1\n",
    "while pattern_count < n + 1:\n",
    "    j = 1\n",
    "    while j <= pattern_count:\n",
    "        print(' * ', end = '')\n",
    "        j += 1\n",
    "    print('')\n",
    "    pattern_count += 1"
   ]
  },
  {
   "cell_type": "markdown",
   "id": "448781ea-2b67-4ee4-a1b2-2f4e579f4e99",
   "metadata": {},
   "source": [
    "Second Pattern\n"
   ]
  },
  {
   "cell_type": "code",
   "execution_count": 45,
   "id": "a848b86f-0aaa-453b-975d-8276807fa781",
   "metadata": {},
   "outputs": [
    {
     "name": "stdin",
     "output_type": "stream",
     "text": [
      "Enter the number of rows:  5\n"
     ]
    },
    {
     "name": "stdout",
     "output_type": "stream",
     "text": [
      " *  *  *  *  * \n",
      " *  *  *  * \n",
      " *  *  * \n",
      " *  * \n",
      " * \n"
     ]
    }
   ],
   "source": [
    "n = int(input('Enter the number of rows: '))\n",
    "pattern_count = 1\n",
    "while pattern_count < n + 1:\n",
    "    j = n\n",
    "    while j >= pattern_count:\n",
    "        print(' * ', end = '')\n",
    "        j -= 1\n",
    "    print('')\n",
    "    pattern_count += 1"
   ]
  },
  {
   "cell_type": "markdown",
   "id": "8adabe22-2caa-4b80-a708-1920b1665682",
   "metadata": {},
   "source": [
    "Third Pattern"
   ]
  },
  {
   "cell_type": "code",
   "execution_count": 65,
   "id": "3255b8b7-9c6b-4fc1-8aee-af79c7db2a16",
   "metadata": {},
   "outputs": [
    {
     "name": "stdin",
     "output_type": "stream",
     "text": [
      "Enter the number of rows:  5\n"
     ]
    },
    {
     "name": "stdout",
     "output_type": "stream",
     "text": [
      " * \n",
      " *  * \n",
      " *  *  * \n",
      " *  *  *  * \n",
      " *  *  *  *  * \n",
      " *  *  *  * \n",
      " *  *  * \n",
      " *  * \n",
      " * \n"
     ]
    }
   ],
   "source": [
    "n = int(input('Enter the number of rows: '))\n",
    "pattern_count = 1\n",
    "while pattern_count < n:\n",
    "    j = 1\n",
    "    while j <= pattern_count:\n",
    "        print(' * ', end = '')\n",
    "        j += 1\n",
    "    print('')\n",
    "    pattern_count += 1\n",
    "    \n",
    "pattern_count = 1\n",
    "while pattern_count < n + 1:\n",
    "    j = n\n",
    "    while j >= pattern_count:\n",
    "        print(' * ', end = '')\n",
    "        j -= 1\n",
    "    print('')\n",
    "    pattern_count += 1"
   ]
  },
  {
   "cell_type": "markdown",
   "id": "e392b55f-9231-443c-93b5-b15adaf6c47a",
   "metadata": {},
   "source": [
    "## Reverse a while loop to display number from 10 to 1"
   ]
  },
  {
   "cell_type": "code",
   "execution_count": 66,
   "id": "a668596e-2a83-4ff5-a218-7320a50b26ed",
   "metadata": {},
   "outputs": [
    {
     "name": "stdout",
     "output_type": "stream",
     "text": [
      "10\n",
      "9\n",
      "8\n",
      "7\n",
      "6\n",
      "5\n",
      "4\n",
      "3\n",
      "2\n",
      "1\n"
     ]
    }
   ],
   "source": [
    "start = 10\n",
    "while start > 0:\n",
    "    print(start)\n",
    "    start -= 1"
   ]
  },
  {
   "cell_type": "markdown",
   "id": "a2e8ce4b-e227-4eae-ac79-b80c354a5782",
   "metadata": {},
   "source": [
    "# Question. 08 is same as the Question. 07"
   ]
  },
  {
   "cell_type": "code",
   "execution_count": null,
   "id": "da4f3cab-0e5f-461d-923f-eefca0c455fd",
   "metadata": {},
   "outputs": [],
   "source": []
  }
 ],
 "metadata": {
  "kernelspec": {
   "display_name": "Python 3 (ipykernel)",
   "language": "python",
   "name": "python3"
  },
  "language_info": {
   "codemirror_mode": {
    "name": "ipython",
    "version": 3
   },
   "file_extension": ".py",
   "mimetype": "text/x-python",
   "name": "python",
   "nbconvert_exporter": "python",
   "pygments_lexer": "ipython3",
   "version": "3.10.8"
  }
 },
 "nbformat": 4,
 "nbformat_minor": 5
}
